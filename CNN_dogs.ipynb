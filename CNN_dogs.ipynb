{
  "cells": [
    {
      "cell_type": "markdown",
      "metadata": {
        "id": "4wWsRzqUAKsi"
      },
      "source": [
        "# CNN to dog breeds\n",
        "\n",
        "In this notebook, I aim to apply Tensorflow and Pytorch AI frameworks to classify different Dog breed given an image."
      ]
    },
    {
      "cell_type": "markdown",
      "metadata": {
        "id": "c_tYZRhTBqHC"
      },
      "source": [
        "## Data"
      ]
    },
    {
      "cell_type": "code",
      "execution_count": null,
      "metadata": {},
      "outputs": [],
      "source": [
        "# Import libraries\n",
        "import pandas as pd\n",
        "import glob"
      ]
    },
    {
      "cell_type": "code",
      "execution_count": 36,
      "metadata": {},
      "outputs": [
        {
          "name": "stdout",
          "output_type": "stream",
          "text": [
            "There are 8351 dog images.\n"
          ]
        }
      ],
      "source": [
        "# Load the dog images (.jpg extension)\n",
        "dog_images = glob.glob(\"dogimages/**/*.jpg\", recursive=True)\n",
        "num_dog_images = len(dog_images)\n",
        "print(f\"There are {num_dog_images} dog images.\")"
      ]
    },
    {
      "cell_type": "code",
      "execution_count": null,
      "metadata": {},
      "outputs": [
        {
          "name": "stdout",
          "output_type": "stream",
          "text": [
            "There are 6680 dog images for train.\n"
          ]
        }
      ],
      "source": [
        "# Train\n",
        "train_dog_images = glob.glob(\"dogimages/train/**/*.jpg\", recursive=True)\n",
        "num_train_dog_images = len(train_dog_images)\n",
        "print(f\"There are {num_train_dog_images} dog images for train.\")"
      ]
    },
    {
      "cell_type": "code",
      "execution_count": null,
      "metadata": {},
      "outputs": [
        {
          "name": "stdout",
          "output_type": "stream",
          "text": [
            "There are 835 dog images for validation.\n"
          ]
        }
      ],
      "source": [
        "# Validation\n",
        "val_dog_images = glob.glob(\"dogimages/valid/**/*.jpg\", recursive=True)\n",
        "num_val_dog_images = len(val_dog_images)\n",
        "print(f\"There are {num_val_dog_images} dog images for validation.\")"
      ]
    },
    {
      "cell_type": "code",
      "execution_count": null,
      "metadata": {},
      "outputs": [
        {
          "name": "stdout",
          "output_type": "stream",
          "text": [
            "There are 836 dog images for test.\n"
          ]
        }
      ],
      "source": [
        "# Test\n",
        "test_dog_images = glob.glob(\"dogimages/test/**/*.jpg\", recursive=True)\n",
        "num_test_dog_images = len(test_dog_images)\n",
        "print(f\"There are {num_test_dog_images} dog images for test.\")"
      ]
    },
    {
      "cell_type": "code",
      "execution_count": 42,
      "metadata": {},
      "outputs": [],
      "source": [
        "# We check that there is no any wrong or missing image\n",
        "assert num_dog_images == num_train_dog_images + num_val_dog_images + num_test_dog_images"
      ]
    },
    {
      "cell_type": "code",
      "execution_count": 22,
      "metadata": {},
      "outputs": [],
      "source": [
        "# Different breeds\n",
        "dog_breeds = glob.glob(\"dogimages/train/*\")\n",
        "dog_breeds = [dog_breed_tmp.split(\".\")[1] for dog_breed_tmp in dog_breeds]"
      ]
    },
    {
      "cell_type": "markdown",
      "metadata": {},
      "source": [
        "**TODO**: Show some image"
      ]
    },
    {
      "cell_type": "markdown",
      "metadata": {},
      "source": [
        "## CNN"
      ]
    },
    {
      "cell_type": "code",
      "execution_count": 43,
      "metadata": {},
      "outputs": [],
      "source": [
        "# Import libraries\n",
        "import matplotlib.pyplot as plt\n",
        "import matplotlib.image as mpimg\n",
        "from sklearn.metrics import classification_report, confusion_matrix\n",
        "from sklearn.model_selection import train_test_split\n",
        "import numpy as np"
      ]
    },
    {
      "cell_type": "markdown",
      "metadata": {},
      "source": [
        "### Tensorflow"
      ]
    },
    {
      "cell_type": "code",
      "execution_count": 44,
      "metadata": {},
      "outputs": [],
      "source": [
        "# Import libraries\n",
        "import tensorflow as tf"
      ]
    },
    {
      "cell_type": "markdown",
      "metadata": {},
      "source": [
        "**Step 1**: Load data"
      ]
    },
    {
      "cell_type": "code",
      "execution_count": 46,
      "metadata": {},
      "outputs": [
        {
          "name": "stdout",
          "output_type": "stream",
          "text": [
            "Found 6680 files belonging to 133 classes.\n",
            "Found 835 files belonging to 133 classes.\n",
            "Found 836 files belonging to 133 classes.\n",
            "Clases encontradas: ['001.Affenpinscher', '002.Afghan_hound', '003.Airedale_terrier', '004.Akita', '005.Alaskan_malamute', '006.American_eskimo_dog', '007.American_foxhound', '008.American_staffordshire_terrier', '009.American_water_spaniel', '010.Anatolian_shepherd_dog', '011.Australian_cattle_dog', '012.Australian_shepherd', '013.Australian_terrier', '014.Basenji', '015.Basset_hound', '016.Beagle', '017.Bearded_collie', '018.Beauceron', '019.Bedlington_terrier', '020.Belgian_malinois', '021.Belgian_sheepdog', '022.Belgian_tervuren', '023.Bernese_mountain_dog', '024.Bichon_frise', '025.Black_and_tan_coonhound', '026.Black_russian_terrier', '027.Bloodhound', '028.Bluetick_coonhound', '029.Border_collie', '030.Border_terrier', '031.Borzoi', '032.Boston_terrier', '033.Bouvier_des_flandres', '034.Boxer', '035.Boykin_spaniel', '036.Briard', '037.Brittany', '038.Brussels_griffon', '039.Bull_terrier', '040.Bulldog', '041.Bullmastiff', '042.Cairn_terrier', '043.Canaan_dog', '044.Cane_corso', '045.Cardigan_welsh_corgi', '046.Cavalier_king_charles_spaniel', '047.Chesapeake_bay_retriever', '048.Chihuahua', '049.Chinese_crested', '050.Chinese_shar-pei', '051.Chow_chow', '052.Clumber_spaniel', '053.Cocker_spaniel', '054.Collie', '055.Curly-coated_retriever', '056.Dachshund', '057.Dalmatian', '058.Dandie_dinmont_terrier', '059.Doberman_pinscher', '060.Dogue_de_bordeaux', '061.English_cocker_spaniel', '062.English_setter', '063.English_springer_spaniel', '064.English_toy_spaniel', '065.Entlebucher_mountain_dog', '066.Field_spaniel', '067.Finnish_spitz', '068.Flat-coated_retriever', '069.French_bulldog', '070.German_pinscher', '071.German_shepherd_dog', '072.German_shorthaired_pointer', '073.German_wirehaired_pointer', '074.Giant_schnauzer', '075.Glen_of_imaal_terrier', '076.Golden_retriever', '077.Gordon_setter', '078.Great_dane', '079.Great_pyrenees', '080.Greater_swiss_mountain_dog', '081.Greyhound', '082.Havanese', '083.Ibizan_hound', '084.Icelandic_sheepdog', '085.Irish_red_and_white_setter', '086.Irish_setter', '087.Irish_terrier', '088.Irish_water_spaniel', '089.Irish_wolfhound', '090.Italian_greyhound', '091.Japanese_chin', '092.Keeshond', '093.Kerry_blue_terrier', '094.Komondor', '095.Kuvasz', '096.Labrador_retriever', '097.Lakeland_terrier', '098.Leonberger', '099.Lhasa_apso', '100.Lowchen', '101.Maltese', '102.Manchester_terrier', '103.Mastiff', '104.Miniature_schnauzer', '105.Neapolitan_mastiff', '106.Newfoundland', '107.Norfolk_terrier', '108.Norwegian_buhund', '109.Norwegian_elkhound', '110.Norwegian_lundehund', '111.Norwich_terrier', '112.Nova_scotia_duck_tolling_retriever', '113.Old_english_sheepdog', '114.Otterhound', '115.Papillon', '116.Parson_russell_terrier', '117.Pekingese', '118.Pembroke_welsh_corgi', '119.Petit_basset_griffon_vendeen', '120.Pharaoh_hound', '121.Plott', '122.Pointer', '123.Pomeranian', '124.Poodle', '125.Portuguese_water_dog', '126.Saint_bernard', '127.Silky_terrier', '128.Smooth_fox_terrier', '129.Tibetan_mastiff', '130.Welsh_springer_spaniel', '131.Wirehaired_pointing_griffon', '132.Xoloitzcuintli', '133.Yorkshire_terrier']\n"
          ]
        }
      ],
      "source": [
        "# Tamaño al que se redimensionarán todas las imágenes\n",
        "IMG_SIZE = (128, 128)\n",
        "# Número de imágenes por batch (más grande = más RAM)\n",
        "BATCH_SIZE = 32\n",
        "# Carga las imágenes desde la carpeta \"data/train\"\n",
        "train_ds = tf.keras.utils.image_dataset_from_directory(\n",
        "    \"dogimages/train\",           # Ruta a la carpeta con subcarpetas por clase\n",
        "    image_size=IMG_SIZE,    # Redimensiona todas las imágenes a 128x128\n",
        "    batch_size=BATCH_SIZE,  # Agrupa en lotes de 32 imágenes\n",
        "    shuffle=True            # Mezcla los datos para entrenar mejor\n",
        ")\n",
        "# Lo mismo para el conjunto de validación\n",
        "val_ds = tf.keras.utils.image_dataset_from_directory(\n",
        "    \"dogimages/valid\",\n",
        "    image_size=IMG_SIZE,\n",
        "    batch_size=BATCH_SIZE\n",
        ")\n",
        "# Y para test (final, sin shuffle para evaluación)\n",
        "test_ds = tf.keras.utils.image_dataset_from_directory(\n",
        "    \"dogimages/test\",\n",
        "    image_size=IMG_SIZE,\n",
        "    batch_size=BATCH_SIZE\n",
        ")\n",
        "# Obtiene automáticamente los nombres de las clases (carpetas)\n",
        "class_names = train_ds.class_names\n",
        "print(\"Clases encontradas:\", class_names)"
      ]
    },
    {
      "cell_type": "markdown",
      "metadata": {},
      "source": [
        "**Step 2**: Normalizar imágenes y preparar el pipeline de datos"
      ]
    },
    {
      "cell_type": "code",
      "execution_count": 48,
      "metadata": {},
      "outputs": [],
      "source": [
        "# TensorFlow puede optimizar automáticamente el número de hilos al cargar datos\n",
        "AUTOTUNE = tf.data.AUTOTUNE\n",
        "\n",
        "# 🔧 Función que convierte los píxeles de int [0,255] a float [0.0,1.0]\n",
        "def preprocess(ds):\n",
        "    return ds.map(\n",
        "        lambda x, y: (tf.cast(x, tf.float32) / 255.0, y),  # normaliza imágenes\n",
        "        num_parallel_calls=AUTOTUNE                        # usa paralelismo para acelerar\n",
        "    )\n",
        "\n",
        "# Aplicamos procesamiento al dataset de entrenamiento\n",
        "train_ds = (\n",
        "    preprocess(train_ds)            # normaliza imágenes\n",
        "    .cache()                        # guarda los datos en memoria tras primera pasada\n",
        "    .shuffle(1000)                  # mezcla aleatoriamente (importante para entrenamiento)\n",
        "    .prefetch(buffer_size=AUTOTUNE)  # prepara el siguiente batch mientras se entrena este\n",
        ")\n",
        "\n",
        "# Validación (sin shuffle, pero también normaliza y acelera carga)\n",
        "val_ds = (\n",
        "    preprocess(val_ds)\n",
        "    .cache()\n",
        "    .prefetch(buffer_size=AUTOTUNE)\n",
        ")\n",
        "\n",
        "# Test (igual que validación)\n",
        "test_ds = (\n",
        "    preprocess(test_ds)\n",
        "    .cache()\n",
        "    .prefetch(buffer_size=AUTOTUNE)\n",
        ")"
      ]
    },
    {
      "cell_type": "code",
      "execution_count": null,
      "metadata": {},
      "outputs": [],
      "source": [
        "# Creamos una red secuencial: capa tras capa\n",
        "model = tf.keras.models.Sequential([\n",
        "    tf.keras.layers.Input(shape=(*IMG_SIZE, 3)),  # Imagen de entrada: (128, 128, 3)\n",
        "\n",
        "    # Primer bloque conv: 32 filtros, tamaño 3x3, ReLU\n",
        "    tf.keras.layers.Conv2D(32, (3, 3), activation='relu'),\n",
        "    tf.keras.layers.MaxPooling2D(),  # Reduce tamaño (64x64)\n",
        "\n",
        "    # Segundo bloque conv\n",
        "    tf.keras.layers.Conv2D(64, (3, 3), activation='relu'),\n",
        "    tf.keras.layers.MaxPooling2D(),  # Reduce tamaño (32x32)\n",
        "\n",
        "    # Tercer bloque conv\n",
        "    tf.keras.layers.Conv2D(128, (3, 3), activation='relu'),\n",
        "    tf.keras.layers.MaxPooling2D(),  # Reduce tamaño (16x16)\n",
        "\n",
        "    # Aplanamos la imagen 3D a un vector 1D\n",
        "    tf.keras.layers.Flatten(),\n",
        "\n",
        "    # Capa densa con 128 neuronas\n",
        "    tf.keras.layers.Dense(128, activation='relu'),\n",
        "\n",
        "    # Regularización: apagamos 50% de neuronas para evitar overfitting\n",
        "    tf.keras.layers.Dropout(0.5),\n",
        "\n",
        "    # Capa de salida: tantas neuronas como clases, activación softmax (probabilidades)\n",
        "    tf.keras.layers.Dense(len(class_names), activation='softmax')\n",
        "])\n",
        "\n",
        "# Compilamos el modelo: definimos cómo se entrena\n",
        "model.compile(\n",
        "    optimizer='adam',                            # Optimizador adaptativo\n",
        "    loss='sparse_categorical_crossentropy',      # Pérdida para etiquetas como enteros\n",
        "    metrics=['accuracy']                         # Métrica a mostrar durante el entrenamiento\n",
        ")\n",
        "\n",
        "# Muestra resumen de capas, parámetros, formas, etc.\n",
        "model.summary()"
      ]
    },
    {
      "cell_type": "code",
      "execution_count": null,
      "metadata": {},
      "outputs": [],
      "source": []
    },
    {
      "cell_type": "markdown",
      "metadata": {
        "id": "zlOxGeZXAJgz"
      },
      "source": [
        "### Pytorch"
      ]
    },
    {
      "cell_type": "code",
      "execution_count": null,
      "metadata": {
        "id": "nWDAEVoOAI7x"
      },
      "outputs": [],
      "source": []
    },
    {
      "cell_type": "code",
      "execution_count": null,
      "metadata": {
        "id": "Yvyl6wpbAI4_"
      },
      "outputs": [],
      "source": []
    },
    {
      "cell_type": "code",
      "execution_count": null,
      "metadata": {
        "id": "4oUWtFRXAI2T"
      },
      "outputs": [],
      "source": []
    },
    {
      "cell_type": "code",
      "execution_count": null,
      "metadata": {
        "id": "Zx5bW-FwAIzv"
      },
      "outputs": [],
      "source": []
    },
    {
      "cell_type": "code",
      "execution_count": null,
      "metadata": {
        "id": "SF9kFu-NAIxV"
      },
      "outputs": [],
      "source": []
    }
  ],
  "metadata": {
    "accelerator": "GPU",
    "colab": {
      "gpuType": "T4",
      "provenance": []
    },
    "kernelspec": {
      "display_name": "dog-env",
      "language": "python",
      "name": "python3"
    },
    "language_info": {
      "codemirror_mode": {
        "name": "ipython",
        "version": 3
      },
      "file_extension": ".py",
      "mimetype": "text/x-python",
      "name": "python",
      "nbconvert_exporter": "python",
      "pygments_lexer": "ipython3",
      "version": "3.10.16"
    }
  },
  "nbformat": 4,
  "nbformat_minor": 0
}
