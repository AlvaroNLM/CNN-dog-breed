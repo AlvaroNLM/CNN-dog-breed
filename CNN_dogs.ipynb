{
  "cells": [
    {
      "cell_type": "markdown",
      "metadata": {
        "id": "4wWsRzqUAKsi"
      },
      "source": [
        "# CNN to dog breeds\n",
        "\n",
        "In this notebook, I aim to apply Tensorflow and Pytorch AI frameworks to classify different Dog breed given an image."
      ]
    },
    {
      "cell_type": "markdown",
      "metadata": {
        "id": "Pio99p55Bq_-"
      },
      "source": [
        "## Preparation"
      ]
    },
    {
      "cell_type": "code",
      "execution_count": 5,
      "metadata": {
        "id": "8HPd74zf0oo1"
      },
      "outputs": [],
      "source": [
        "# Import libraries\n",
        "import matplotlib.pyplot as plt\n",
        "import matplotlib.image as mpimg\n",
        "from sklearn.metrics import classification_report, confusion_matrix\n",
        "from sklearn.model_selection import train_test_split\n",
        "import numpy as np\n",
        "import pandas as pd\n",
        "import glob"
      ]
    },
    {
      "cell_type": "markdown",
      "metadata": {
        "id": "c_tYZRhTBqHC"
      },
      "source": [
        "## Data"
      ]
    },
    {
      "cell_type": "code",
      "execution_count": 36,
      "metadata": {},
      "outputs": [
        {
          "name": "stdout",
          "output_type": "stream",
          "text": [
            "There are 8351 dog images.\n"
          ]
        }
      ],
      "source": [
        "# Load the dog images (.jpg extension)\n",
        "dog_images = glob.glob(\"dogimages/**/*.jpg\", recursive=True)\n",
        "num_dog_images = len(dog_images)\n",
        "print(f\"There are {num_dog_images} dog images.\")"
      ]
    },
    {
      "cell_type": "code",
      "execution_count": null,
      "metadata": {},
      "outputs": [
        {
          "name": "stdout",
          "output_type": "stream",
          "text": [
            "There are 6680 dog images for train.\n"
          ]
        }
      ],
      "source": [
        "# Train\n",
        "train_dog_images = glob.glob(\"dogimages/train/**/*.jpg\", recursive=True)\n",
        "num_train_dog_images = len(train_dog_images)\n",
        "print(f\"There are {num_train_dog_images} dog images for train.\")"
      ]
    },
    {
      "cell_type": "code",
      "execution_count": null,
      "metadata": {},
      "outputs": [
        {
          "name": "stdout",
          "output_type": "stream",
          "text": [
            "There are 835 dog images for validation.\n"
          ]
        }
      ],
      "source": [
        "# Validation\n",
        "val_dog_images = glob.glob(\"dogimages/valid/**/*.jpg\", recursive=True)\n",
        "num_val_dog_images = len(val_dog_images)\n",
        "print(f\"There are {num_val_dog_images} dog images for validation.\")"
      ]
    },
    {
      "cell_type": "code",
      "execution_count": null,
      "metadata": {},
      "outputs": [
        {
          "name": "stdout",
          "output_type": "stream",
          "text": [
            "There are 836 dog images for test.\n"
          ]
        }
      ],
      "source": [
        "# Test\n",
        "test_dog_images = glob.glob(\"dogimages/test/**/*.jpg\", recursive=True)\n",
        "num_test_dog_images = len(test_dog_images)\n",
        "print(f\"There are {num_test_dog_images} dog images for test.\")"
      ]
    },
    {
      "cell_type": "code",
      "execution_count": 42,
      "metadata": {},
      "outputs": [],
      "source": [
        "# We check that there is no any wrong or missing image\n",
        "assert num_dog_images == num_train_dog_images + num_val_dog_images + num_test_dog_images"
      ]
    },
    {
      "cell_type": "code",
      "execution_count": 22,
      "metadata": {},
      "outputs": [],
      "source": [
        "# Different breeds\n",
        "dog_breeds = glob.glob(\"dogimages/train/*\")\n",
        "dog_breeds = [dog_breed_tmp.split(\".\")[1] for dog_breed_tmp in dog_breeds]"
      ]
    },
    {
      "cell_type": "markdown",
      "metadata": {},
      "source": [
        "## Tensorflow"
      ]
    },
    {
      "cell_type": "code",
      "execution_count": null,
      "metadata": {},
      "outputs": [],
      "source": []
    },
    {
      "cell_type": "code",
      "execution_count": null,
      "metadata": {},
      "outputs": [],
      "source": []
    },
    {
      "cell_type": "code",
      "execution_count": null,
      "metadata": {},
      "outputs": [],
      "source": []
    },
    {
      "cell_type": "code",
      "execution_count": null,
      "metadata": {},
      "outputs": [],
      "source": []
    },
    {
      "cell_type": "markdown",
      "metadata": {
        "id": "zlOxGeZXAJgz"
      },
      "source": [
        "## Pytorch"
      ]
    },
    {
      "cell_type": "code",
      "execution_count": null,
      "metadata": {
        "id": "nWDAEVoOAI7x"
      },
      "outputs": [],
      "source": []
    },
    {
      "cell_type": "code",
      "execution_count": null,
      "metadata": {
        "id": "Yvyl6wpbAI4_"
      },
      "outputs": [],
      "source": []
    },
    {
      "cell_type": "code",
      "execution_count": null,
      "metadata": {
        "id": "4oUWtFRXAI2T"
      },
      "outputs": [],
      "source": []
    },
    {
      "cell_type": "code",
      "execution_count": null,
      "metadata": {
        "id": "Zx5bW-FwAIzv"
      },
      "outputs": [],
      "source": []
    },
    {
      "cell_type": "code",
      "execution_count": null,
      "metadata": {
        "id": "SF9kFu-NAIxV"
      },
      "outputs": [],
      "source": []
    }
  ],
  "metadata": {
    "accelerator": "GPU",
    "colab": {
      "gpuType": "T4",
      "provenance": []
    },
    "kernelspec": {
      "display_name": "dog-env",
      "language": "python",
      "name": "python3"
    },
    "language_info": {
      "codemirror_mode": {
        "name": "ipython",
        "version": 3
      },
      "file_extension": ".py",
      "mimetype": "text/x-python",
      "name": "python",
      "nbconvert_exporter": "python",
      "pygments_lexer": "ipython3",
      "version": "3.10.16"
    }
  },
  "nbformat": 4,
  "nbformat_minor": 0
}
