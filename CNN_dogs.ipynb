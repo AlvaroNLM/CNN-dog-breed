{
  "cells": [
    {
      "cell_type": "markdown",
      "metadata": {
        "id": "4wWsRzqUAKsi"
      },
      "source": [
        "# CNN to dog breeds\n",
        "\n",
        "In this notebook, I aim to apply Tensorflow and Pytorch AI frameworks to classify different Dog breed given an image."
      ]
    },
    {
      "cell_type": "markdown",
      "metadata": {
        "id": "c_tYZRhTBqHC"
      },
      "source": [
        "## Data"
      ]
    },
    {
      "cell_type": "code",
      "execution_count": 135,
      "metadata": {},
      "outputs": [],
      "source": [
        "# Import libraries\n",
        "# import pandas as pd\n",
        "import glob\n",
        "from PIL import Image\n",
        "from IPython.display import Image as image_i\n",
        "import os"
      ]
    },
    {
      "cell_type": "markdown",
      "metadata": {},
      "source": [
        "### Auxiliar functions"
      ]
    },
    {
      "cell_type": "code",
      "execution_count": 136,
      "metadata": {},
      "outputs": [],
      "source": [
        "# Auxiliar function to drop corrupt images\n",
        "def check_imgs(path):\n",
        "    errors = []\n",
        "    for folder, _, files in os.walk(path):\n",
        "        for file in files:\n",
        "            path_tmp = os.path.join(folder, file)\n",
        "            try:\n",
        "                with Image.open(path_tmp) as img:\n",
        "                    img.verify()\n",
        "            except Exception as e:\n",
        "                errors.append(path_tmp)\n",
        "    return errors"
      ]
    },
    {
      "cell_type": "code",
      "execution_count": 137,
      "metadata": {},
      "outputs": [],
      "source": [
        "def drop_corrupt_imgs(path):\n",
        "    n = 0\n",
        "    subfolders = [f.path for f in os.scandir(path) if f.is_dir()]\n",
        "    for subfolder in subfolders:\n",
        "        path_tmp = os.path.join(path, subfolder)\n",
        "        corrupt_imgs = check_imgs(path_tmp)\n",
        "        for ruta in corrupt_imgs:\n",
        "            os.remove(ruta)\n",
        "            n+=1\n",
        "    print(f\"We have removed {n} corrupt images.\")"
      ]
    },
    {
      "cell_type": "markdown",
      "metadata": {},
      "source": [
        "### Load data"
      ]
    },
    {
      "cell_type": "code",
      "execution_count": 138,
      "metadata": {},
      "outputs": [
        {
          "name": "stdout",
          "output_type": "stream",
          "text": [
            "There are 8351 dog images.\n"
          ]
        }
      ],
      "source": [
        "# Load the dog images (.jpg extension)\n",
        "dog_images = glob.glob(\"dogimages/**/*.jpg\", recursive=True)\n",
        "num_dog_images = len(dog_images)\n",
        "print(f\"There are {num_dog_images} dog images.\")"
      ]
    },
    {
      "cell_type": "code",
      "execution_count": 139,
      "metadata": {},
      "outputs": [
        {
          "name": "stdout",
          "output_type": "stream",
          "text": [
            "There are 6680 dog images for train.\n"
          ]
        }
      ],
      "source": [
        "# Train\n",
        "train_dog_images = glob.glob(\"dogimages/train/**/*.jpg\", recursive=True)\n",
        "num_train_dog_images = len(train_dog_images)\n",
        "print(f\"There are {num_train_dog_images} dog images for train.\")"
      ]
    },
    {
      "cell_type": "code",
      "execution_count": 140,
      "metadata": {},
      "outputs": [
        {
          "name": "stdout",
          "output_type": "stream",
          "text": [
            "There are 835 dog images for validation.\n"
          ]
        }
      ],
      "source": [
        "# Validation\n",
        "val_dog_images = glob.glob(\"dogimages/valid/**/*.jpg\", recursive=True)\n",
        "num_val_dog_images = len(val_dog_images)\n",
        "print(f\"There are {num_val_dog_images} dog images for validation.\")"
      ]
    },
    {
      "cell_type": "code",
      "execution_count": 141,
      "metadata": {},
      "outputs": [
        {
          "name": "stdout",
          "output_type": "stream",
          "text": [
            "There are 836 dog images for test.\n"
          ]
        }
      ],
      "source": [
        "# Test\n",
        "test_dog_images = glob.glob(\"dogimages/test/**/*.jpg\", recursive=True)\n",
        "num_test_dog_images = len(test_dog_images)\n",
        "print(f\"There are {num_test_dog_images} dog images for test.\")"
      ]
    },
    {
      "cell_type": "code",
      "execution_count": 142,
      "metadata": {},
      "outputs": [],
      "source": [
        "# We check that there is no any wrong or missing image\n",
        "assert num_dog_images == num_train_dog_images + num_val_dog_images + num_test_dog_images"
      ]
    },
    {
      "cell_type": "code",
      "execution_count": 143,
      "metadata": {},
      "outputs": [
        {
          "name": "stdout",
          "output_type": "stream",
          "text": [
            "Cheking train in c:\\Users\\alvar\\Desktop\\Portfolio\\CNN-dog-breed\\dogimages\\train...\n",
            "We have removed 0 corrupt images.\n",
            "Cheking valid in c:\\Users\\alvar\\Desktop\\Portfolio\\CNN-dog-breed\\dogimages\\valid...\n",
            "We have removed 0 corrupt images.\n",
            "Cheking test in c:\\Users\\alvar\\Desktop\\Portfolio\\CNN-dog-breed\\dogimages\\test...\n",
            "We have removed 0 corrupt images.\n"
          ]
        }
      ],
      "source": [
        "# We check corrupt images\n",
        "path = os.path.join(os.getcwd(), \"dogimages\")\n",
        "train_path = os.path.join(path, \"train\")\n",
        "valid_path = os.path.join(path, \"valid\")\n",
        "test_path = os.path.join(path, \"test\")\n",
        "print(f\"Cheking train in {train_path}...\")\n",
        "drop_corrupt_imgs(train_path)\n",
        "print(f\"Cheking valid in {valid_path}...\")\n",
        "drop_corrupt_imgs(valid_path)\n",
        "print(f\"Cheking test in {test_path}...\")\n",
        "drop_corrupt_imgs(test_path)"
      ]
    },
    {
      "cell_type": "code",
      "execution_count": 144,
      "metadata": {},
      "outputs": [],
      "source": [
        "# Different breeds\n",
        "dog_breeds = glob.glob(\"dogimages/train/*\")\n",
        "dog_breeds = [dog_breed_tmp.split(\".\")[1] for dog_breed_tmp in dog_breeds]"
      ]
    },
    {
      "cell_type": "code",
      "execution_count": 145,
      "metadata": {},
      "outputs": [
        {
          "data": {
            "image/jpeg": "[encoded data removed]",
            "text/plain": [
              "<IPython.core.display.Image object>"
            ]
          },
          "execution_count": 145,
          "metadata": {},
          "output_type": "execute_result"
        }
      ],
      "source": [
        "# Show an image\n",
        "image_i(train_dog_images[0])"
      ]
    },
    {
      "cell_type": "markdown",
      "metadata": {},
      "source": [
        "**TODO**: Show some image"
      ]
    },
    {
      "cell_type": "markdown",
      "metadata": {},
      "source": [
        "## CNN"
      ]
    },
    {
      "cell_type": "code",
      "execution_count": 146,
      "metadata": {},
      "outputs": [],
      "source": [
        "# Import libraries\n",
        "import matplotlib.pyplot as plt\n",
        "import matplotlib.image as mpimg\n",
        "from sklearn.metrics import classification_report, confusion_matrix\n",
        "from sklearn.model_selection import train_test_split\n",
        "import numpy as np"
      ]
    },
    {
      "cell_type": "markdown",
      "metadata": {},
      "source": [
        "### Tensorflow"
      ]
    },
    {
      "cell_type": "code",
      "execution_count": 147,
      "metadata": {},
      "outputs": [],
      "source": [
        "# Import libraries\n",
        "import tensorflow as tf\n",
        "from keras.models import Sequential, Model\n",
        "from keras.layers import Input, Conv2D, MaxPooling2D, Dropout, Flatten, Dense, Activation, BatchNormalization"
      ]
    },
    {
      "cell_type": "markdown",
      "metadata": {},
      "source": [
        "**Step 1**: Load data"
      ]
    },
    {
      "cell_type": "code",
      "execution_count": 148,
      "metadata": {},
      "outputs": [
        {
          "name": "stdout",
          "output_type": "stream",
          "text": [
            "Found 6680 files belonging to 133 classes.\n",
            "Found 835 files belonging to 133 classes.\n",
            "Found 836 files belonging to 133 classes.\n",
            "Clases encontradas: ['001.Affenpinscher', '002.Afghan_hound', '003.Airedale_terrier', '004.Akita', '005.Alaskan_malamute', '006.American_eskimo_dog', '007.American_foxhound', '008.American_staffordshire_terrier', '009.American_water_spaniel', '010.Anatolian_shepherd_dog', '011.Australian_cattle_dog', '012.Australian_shepherd', '013.Australian_terrier', '014.Basenji', '015.Basset_hound', '016.Beagle', '017.Bearded_collie', '018.Beauceron', '019.Bedlington_terrier', '020.Belgian_malinois', '021.Belgian_sheepdog', '022.Belgian_tervuren', '023.Bernese_mountain_dog', '024.Bichon_frise', '025.Black_and_tan_coonhound', '026.Black_russian_terrier', '027.Bloodhound', '028.Bluetick_coonhound', '029.Border_collie', '030.Border_terrier', '031.Borzoi', '032.Boston_terrier', '033.Bouvier_des_flandres', '034.Boxer', '035.Boykin_spaniel', '036.Briard', '037.Brittany', '038.Brussels_griffon', '039.Bull_terrier', '040.Bulldog', '041.Bullmastiff', '042.Cairn_terrier', '043.Canaan_dog', '044.Cane_corso', '045.Cardigan_welsh_corgi', '046.Cavalier_king_charles_spaniel', '047.Chesapeake_bay_retriever', '048.Chihuahua', '049.Chinese_crested', '050.Chinese_shar-pei', '051.Chow_chow', '052.Clumber_spaniel', '053.Cocker_spaniel', '054.Collie', '055.Curly-coated_retriever', '056.Dachshund', '057.Dalmatian', '058.Dandie_dinmont_terrier', '059.Doberman_pinscher', '060.Dogue_de_bordeaux', '061.English_cocker_spaniel', '062.English_setter', '063.English_springer_spaniel', '064.English_toy_spaniel', '065.Entlebucher_mountain_dog', '066.Field_spaniel', '067.Finnish_spitz', '068.Flat-coated_retriever', '069.French_bulldog', '070.German_pinscher', '071.German_shepherd_dog', '072.German_shorthaired_pointer', '073.German_wirehaired_pointer', '074.Giant_schnauzer', '075.Glen_of_imaal_terrier', '076.Golden_retriever', '077.Gordon_setter', '078.Great_dane', '079.Great_pyrenees', '080.Greater_swiss_mountain_dog', '081.Greyhound', '082.Havanese', '083.Ibizan_hound', '084.Icelandic_sheepdog', '085.Irish_red_and_white_setter', '086.Irish_setter', '087.Irish_terrier', '088.Irish_water_spaniel', '089.Irish_wolfhound', '090.Italian_greyhound', '091.Japanese_chin', '092.Keeshond', '093.Kerry_blue_terrier', '094.Komondor', '095.Kuvasz', '096.Labrador_retriever', '097.Lakeland_terrier', '098.Leonberger', '099.Lhasa_apso', '100.Lowchen', '101.Maltese', '102.Manchester_terrier', '103.Mastiff', '104.Miniature_schnauzer', '105.Neapolitan_mastiff', '106.Newfoundland', '107.Norfolk_terrier', '108.Norwegian_buhund', '109.Norwegian_elkhound', '110.Norwegian_lundehund', '111.Norwich_terrier', '112.Nova_scotia_duck_tolling_retriever', '113.Old_english_sheepdog', '114.Otterhound', '115.Papillon', '116.Parson_russell_terrier', '117.Pekingese', '118.Pembroke_welsh_corgi', '119.Petit_basset_griffon_vendeen', '120.Pharaoh_hound', '121.Plott', '122.Pointer', '123.Pomeranian', '124.Poodle', '125.Portuguese_water_dog', '126.Saint_bernard', '127.Silky_terrier', '128.Smooth_fox_terrier', '129.Tibetan_mastiff', '130.Welsh_springer_spaniel', '131.Wirehaired_pointing_griffon', '132.Xoloitzcuintli', '133.Yorkshire_terrier']\n"
          ]
        }
      ],
      "source": [
        "# Image size redimension\n",
        "IMG_SIZE = (224, 224)\n",
        "# Images per Batch (bigger = more RAM)\n",
        "BATCH_SIZE = 20\n",
        "# Carga las imágenes desde la carpeta \"data/train\"\n",
        "train_ds = tf.keras.utils.image_dataset_from_directory(\n",
        "    \"dogimages/train\",      # Path\n",
        "    image_size=IMG_SIZE,    # Image redimension -> 128x128\n",
        "    batch_size=BATCH_SIZE,  # Groups (batchs) of 32 images\n",
        "    shuffle=True            # To improve the training process\n",
        ")\n",
        "\n",
        "# Same for validation\n",
        "val_ds = tf.keras.utils.image_dataset_from_directory(\n",
        "    \"dogimages/valid\",\n",
        "    image_size=IMG_SIZE,\n",
        "    batch_size=BATCH_SIZE\n",
        ")\n",
        "\n",
        "\n",
        "# Same for test\n",
        "test_ds = tf.keras.utils.image_dataset_from_directory(\n",
        "    \"dogimages/test\",\n",
        "    image_size=IMG_SIZE,\n",
        "    batch_size=BATCH_SIZE\n",
        ")\n",
        "\n",
        "# We automatically obtain the classes\n",
        "class_names = train_ds.class_names\n",
        "print(\"Clases encontradas:\", class_names)"
      ]
    },
    {
      "cell_type": "markdown",
      "metadata": {},
      "source": [
        "**Step 2**: Normalizar imágenes y preparar el pipeline de datos"
      ]
    },
    {
      "cell_type": "code",
      "execution_count": 149,
      "metadata": {},
      "outputs": [],
      "source": [
        "# TensorFlow can automatically optimize the number of threads when loading data\n",
        "AUTOTUNE = tf.data.AUTOTUNE\n",
        "\n",
        "# Pixels from inter [0,255] to float [0.0,1.0]\n",
        "def preprocess(ds):\n",
        "    return ds.map(\n",
        "        lambda x, y: (tf.cast(x, tf.float32) / 255.0, y),  # Image normalizarion\n",
        "        num_parallel_calls=AUTOTUNE\n",
        "    )\n",
        "\n",
        "# Train\n",
        "train_ds = (\n",
        "    preprocess(train_ds)             # Image normalization\n",
        "    .cache()                         # Save data after first usage\n",
        "    .shuffle(1000)                   # Shuffle to improve the training process\n",
        "    .prefetch(buffer_size=AUTOTUNE)  # Preparing next batch whereas this is training (remember: parallel mode is active)\n",
        ")\n",
        "\n",
        "# Validation\n",
        "val_ds = (\n",
        "    preprocess(val_ds)\n",
        "    .cache()\n",
        "    .prefetch(buffer_size=AUTOTUNE)\n",
        ")\n",
        "\n",
        "# Test\n",
        "test_ds = (\n",
        "    preprocess(test_ds)\n",
        "    .cache()\n",
        "    .prefetch(buffer_size=AUTOTUNE)\n",
        ")"
      ]
    },
    {
      "cell_type": "code",
      "execution_count": 150,
      "metadata": {},
      "outputs": [],
      "source": [
        "# fourth model architecture (add batch normalization)\n",
        "model = Sequential([\n",
        "    Input(shape=(*IMG_SIZE, 3)),\n",
        "    # 1st 2D-Convolution Layer\n",
        "    Conv2D(16, (3, 3), padding='same', use_bias=False),\t\n",
        "    # 1st Batch Normalization Layer\n",
        "    BatchNormalization(axis=3, scale=False),\t\n",
        "    # 1st Activation Layer\n",
        "    Activation('relu'),\n",
        "    # 1st Max-Pooling Layer\n",
        "    MaxPooling2D((4, 4), strides=(4, 4), padding='same'),\n",
        "    # 1st Dropout Layer\n",
        "    Dropout(0.2),\n",
        "    # 2nd 2D-Convolution Layer\n",
        "    Conv2D(32, (3, 3), padding='same', use_bias=False),\n",
        "    # 2nd Batch Normalization Layer\n",
        "    BatchNormalization(axis=3, scale=False),\t\n",
        "    # 2nd Activation Layer\n",
        "    Activation('relu'),\n",
        "    # 2nd Max-Pooling Layer\n",
        "    MaxPooling2D((4, 4), strides=(4, 4), padding='same'),\n",
        "    # 2nd Dropout Layer\n",
        "    Dropout(0.2),\n",
        "    # 3rd 2D-Convolution Layer\n",
        "    Conv2D(64, (3, 3), padding='same', use_bias=False),\n",
        "    # 3rd Batch Normalization Layer\n",
        "    BatchNormalization(axis=3, scale=False),\n",
        "    # 3rd Activation Layer\n",
        "    Activation('relu'),\n",
        "    # 3rd Max-Pooling Layer\n",
        "    MaxPooling2D((4, 4), strides=(4, 4), padding='same'),\n",
        "    # 3rd Dropout Layer\n",
        "    Dropout(0.2),\n",
        "    # 4th Convolution Layer\n",
        "    Conv2D(128, (3, 3), padding='same', use_bias=False),\n",
        "    # 4th Batch Normalization Layer\n",
        "    BatchNormalization(axis=3, scale=False),\n",
        "    # 4th Activation Layer\n",
        "    Activation('relu'),\n",
        "    # 1st Flatten Layer\n",
        "    Flatten(),\n",
        "    # 4th Dropout Layer\n",
        "    Dropout(0.2),\n",
        "    # 1st Dense Layer\n",
        "    Dense(512, activation='relu'),\n",
        "    # Fully-Connected Layer\n",
        "    Dense(len(class_names), activation='softmax'),\n",
        "])\n",
        "    \n",
        "    "
      ]
    },
    {
      "cell_type": "code",
      "execution_count": 151,
      "metadata": {},
      "outputs": [],
      "source": [
        "# Compiling the model\n",
        "model.compile(\n",
        "    optimizer='adam',\n",
        "    loss='sparse_categorical_crossentropy',\n",
        "    metrics=['accuracy']\n",
        ")\n",
        "\n",
        "# model.summary()"
      ]
    },
    {
      "cell_type": "markdown",
      "metadata": {},
      "source": [
        "**Step 4**: Train the model"
      ]
    },
    {
      "cell_type": "code",
      "execution_count": 153,
      "metadata": {},
      "outputs": [
        {
          "name": "stdout",
          "output_type": "stream",
          "text": [
            "Epoch 1/10\n",
            "\u001b[1m333/334\u001b[0m \u001b[32m━━━━━━━━━━━━━━━━━━━\u001b[0m\u001b[37m━\u001b[0m \u001b[1m0s\u001b[0m 232ms/step - accuracy: 0.0126 - loss: 5.0024"
          ]
        },
        {
          "name": "stderr",
          "output_type": "stream",
          "text": [
            "c:\\Users\\alvar\\miniconda3\\envs\\dog-env\\lib\\site-packages\\keras\\src\\trainers\\epoch_iterator.py:160: UserWarning: Your input ran out of data; interrupting training. Make sure that your dataset or generator can generate at least `steps_per_epoch * epochs` batches. You may need to use the `.repeat()` function when building your dataset.\n",
            "  self._interrupted_warning()\n"
          ]
        },
        {
          "name": "stdout",
          "output_type": "stream",
          "text": [
            "\u001b[1m334/334\u001b[0m \u001b[32m━━━━━━━━━━━━━━━━━━━━\u001b[0m\u001b[37m\u001b[0m \u001b[1m80s\u001b[0m 238ms/step - accuracy: 0.0127 - loss: 5.0018 - val_accuracy: 0.0096 - val_loss: 5.1555\n",
            "Epoch 2/10\n",
            "\u001b[1m334/334\u001b[0m \u001b[32m━━━━━━━━━━━━━━━━━━━━\u001b[0m\u001b[37m\u001b[0m \u001b[1m78s\u001b[0m 234ms/step - accuracy: 0.0365 - loss: 4.4360 - val_accuracy: 0.0180 - val_loss: 5.1028\n",
            "Epoch 3/10\n",
            "\u001b[1m334/334\u001b[0m \u001b[32m━━━━━━━━━━━━━━━━━━━━\u001b[0m\u001b[37m\u001b[0m \u001b[1m73s\u001b[0m 220ms/step - accuracy: 0.0498 - loss: 4.2397 - val_accuracy: 0.0299 - val_loss: 4.7833\n",
            "Epoch 4/10\n",
            "\u001b[1m334/334\u001b[0m \u001b[32m━━━━━━━━━━━━━━━━━━━━\u001b[0m\u001b[37m\u001b[0m \u001b[1m76s\u001b[0m 226ms/step - accuracy: 0.0679 - loss: 4.0809 - val_accuracy: 0.0347 - val_loss: 4.6180\n",
            "Epoch 5/10\n",
            "\u001b[1m334/334\u001b[0m \u001b[32m━━━━━━━━━━━━━━━━━━━━\u001b[0m\u001b[37m\u001b[0m \u001b[1m77s\u001b[0m 229ms/step - accuracy: 0.0860 - loss: 3.9370 - val_accuracy: 0.0635 - val_loss: 4.1221\n",
            "Epoch 6/10\n",
            "\u001b[1m334/334\u001b[0m \u001b[32m━━━━━━━━━━━━━━━━━━━━\u001b[0m\u001b[37m\u001b[0m \u001b[1m78s\u001b[0m 233ms/step - accuracy: 0.0949 - loss: 3.8160 - val_accuracy: 0.0311 - val_loss: 4.8821\n",
            "Epoch 7/10\n",
            "\u001b[1m334/334\u001b[0m \u001b[32m━━━━━━━━━━━━━━━━━━━━\u001b[0m\u001b[37m\u001b[0m \u001b[1m75s\u001b[0m 224ms/step - accuracy: 0.1162 - loss: 3.7404 - val_accuracy: 0.0671 - val_loss: 4.1559\n",
            "Epoch 8/10\n",
            "\u001b[1m334/334\u001b[0m \u001b[32m━━━━━━━━━━━━━━━━━━━━\u001b[0m\u001b[37m\u001b[0m \u001b[1m74s\u001b[0m 220ms/step - accuracy: 0.1265 - loss: 3.6026 - val_accuracy: 0.0431 - val_loss: 4.9290\n",
            "Epoch 9/10\n",
            "\u001b[1m334/334\u001b[0m \u001b[32m━━━━━━━━━━━━━━━━━━━━\u001b[0m\u001b[37m\u001b[0m \u001b[1m74s\u001b[0m 221ms/step - accuracy: 0.1465 - loss: 3.5045 - val_accuracy: 0.0754 - val_loss: 3.9412\n",
            "Epoch 10/10\n",
            "\u001b[1m334/334\u001b[0m \u001b[32m━━━━━━━━━━━━━━━━━━━━\u001b[0m\u001b[37m\u001b[0m \u001b[1m78s\u001b[0m 234ms/step - accuracy: 0.1611 - loss: 3.4099 - val_accuracy: 0.0790 - val_loss: 4.0917\n"
          ]
        }
      ],
      "source": [
        "# Train the model\n",
        "history = model.fit(\n",
        "    train_ds,\n",
        "    validation_data=val_ds,\n",
        "    epochs=10\n",
        ")"
      ]
    },
    {
      "cell_type": "markdown",
      "metadata": {},
      "source": [
        "**Step 5**: Test the model"
      ]
    },
    {
      "cell_type": "code",
      "execution_count": 154,
      "metadata": {},
      "outputs": [
        {
          "name": "stdout",
          "output_type": "stream",
          "text": [
            "\u001b[1m42/42\u001b[0m \u001b[32m━━━━━━━━━━━━━━━━━━━━\u001b[0m\u001b[37m\u001b[0m \u001b[1m2s\u001b[0m 49ms/step - accuracy: 0.0907 - loss: 4.0878\n",
            "Test Accuracy: 8.37%\n"
          ]
        }
      ],
      "source": [
        "# Test the test data (without being used until now)\n",
        "test_loss, test_acc = model.evaluate(test_ds)\n",
        "print(f\"Test Accuracy: {test_acc:.2%}\")"
      ]
    },
    {
      "cell_type": "markdown",
      "metadata": {
        "id": "zlOxGeZXAJgz"
      },
      "source": [
        "### Pytorch"
      ]
    },
    {
      "cell_type": "code",
      "execution_count": null,
      "metadata": {
        "id": "nWDAEVoOAI7x"
      },
      "outputs": [],
      "source": []
    },
    {
      "cell_type": "code",
      "execution_count": null,
      "metadata": {
        "id": "Yvyl6wpbAI4_"
      },
      "outputs": [],
      "source": []
    },
    {
      "cell_type": "code",
      "execution_count": null,
      "metadata": {
        "id": "4oUWtFRXAI2T"
      },
      "outputs": [],
      "source": []
    },
    {
      "cell_type": "code",
      "execution_count": null,
      "metadata": {
        "id": "Zx5bW-FwAIzv"
      },
      "outputs": [],
      "source": []
    },
    {
      "cell_type": "code",
      "execution_count": null,
      "metadata": {
        "id": "SF9kFu-NAIxV"
      },
      "outputs": [],
      "source": []
    }
  ],
  "metadata": {
    "accelerator": "GPU",
    "colab": {
      "gpuType": "T4",
      "provenance": []
    },
    "kernelspec": {
      "display_name": "dog-env",
      "language": "python",
      "name": "python3"
    },
    "language_info": {
      "codemirror_mode": {
        "name": "ipython",
        "version": 3
      },
      "file_extension": ".py",
      "mimetype": "text/x-python",
      "name": "python",
      "nbconvert_exporter": "python",
      "pygments_lexer": "ipython3",
      "version": "3.10.16"
    }
  },
  "nbformat": 4,
  "nbformat_minor": 0
}
